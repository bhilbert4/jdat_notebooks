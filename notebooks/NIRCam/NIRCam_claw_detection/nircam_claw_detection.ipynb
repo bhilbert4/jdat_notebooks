{
 "cells": [
  {
   "cell_type": "markdown",
   "id": "3e916d4f-ffe0-4c07-8c7c-a122969bda36",
   "metadata": {},
   "source": [
    "# NIRCam Claw Detection.\n",
    "---\n",
    "**Author**: Mees Fix (mfix@stsci.edu) <br>\n",
    "**Latest Update**: 05 March 2025<br>\n",
    "**Use case**: NIRCam Imaging detectors A1, A3, B1, B2 or B4. <br>\n",
    "**Data**: None<br>\n",
    "**Test Pipeline Version**: None"
   ]
  },
  {
   "cell_type": "markdown",
   "id": "ee829f57-d20d-4989-aea5-b6114dbd116d",
   "metadata": {},
   "source": [
    "<a id='intro'></a>\n",
    "## Introduction\n",
    "\n",
    "This notebook demonstrates how to use JWST pointing information provided in a user's APT program to detect the potential of\n",
    "[claws](https://jwst-docs.stsci.edu/known-issues-with-jwst-data/nircam-known-issues/nircam-scattered-light-artifacts#NIRCamScatteredLightArtifacts-clawsClaws) in NIRCam observations. Claws are a scattered light phenomenon that occur when a bright star falls in the susceptibility region. When present, claws occur primarily in the A1, A3, B1, B2 or B4 detectors, affecting roughly 5% of the pixels on those detectors.\n",
    "\n",
    "All datasets necessary for this notebook to run are included in the [jwst_rogue_path_tool](https://github.com/spacetelescope/jwst_rogue_path_tool) python package. This includes the following:\n",
    "\n",
    "* `APT_test_4RPtool.records.json`:  A mock program that contains NIRCam instrument configurations that could contain contain claws we want to detect.\n",
    "* `rogue_path_nrca.fits`: fits file that contains the susceptibility region intensity contours for NIRCam module A. \n",
    "* `rogue_path_nrcb.fits`: fits file that contains the susceptibility region intensity contours for NIRCam module B.\n",
    "* `two_mass_kmag_lt_5.csv`: [2MASS](https://irsa.ipac.caltech.edu/Missions/2mass.html) stellar sources that have magnitudes less than 5.\n",
    "\n",
    "To generate your own `records.json` file for a specific program via APT, see the [JDox page for APT Export files](https://jwst-docs.stsci.edu/jwst-astronomers-proposal-tool-overview/additional-jwst-apt-functionality/apt-export-files#APTExportFiles-records_filerecordsfile&gsc.tab=0)."
   ]
  },
  {
   "cell_type": "markdown",
   "id": "314dcac9-fb10-4c0e-8fc2-d49bd17415d3",
   "metadata": {},
   "source": [
    "<a id='top'></a>\n",
    "## Table of Contents {-}\n",
    "* [Imports](#imports)\n",
    "* [Run the JWST Rogue Path Tool](#Run-jwst-rpt)\n",
    "    * [Handling records.json Files](#handle-records-json-files)\n",
    "    * [Selecting and Displaying APT Data](#Selecting-displaying-program-data)\n",
    "    * [Generating APT Program Object](#Generating-apt-program-object)\n",
    "* [Plotting Rogue Path Tool Results](#Plotting-rogue-path-tool-results)\n",
    "    * [Exposure Level Valid Angle Plots](#exposure-level-plots)\n",
    "    * [Observation Level Valid Angle Plots](#observation-level-plots)\n",
    "    * [Single Angle of Attitude in V2 & V3 Space Plots](#v2-vs-v3)\n",
    "    * [Flux as a Function of Attitude Plots](#attitude-vs-flux)\n",
    "* [Reporting & Applying PA Constraints in APT](#reporting-and-apt)"
   ]
  },
  {
   "cell_type": "markdown",
   "id": "bc3be642",
   "metadata": {},
   "source": [
    "<a id='imports'></a>\n",
    "## Imports"
   ]
  },
  {
   "cell_type": "code",
   "execution_count": null,
   "id": "83a873d2",
   "metadata": {},
   "outputs": [],
   "source": [
    "import numpy as np\n",
    "import pathlib\n",
    "\n",
    "from jwst_rogue_path_tool.program_data_parser import aptJsonFile\n",
    "from jwst_rogue_path_tool.detect_claws import aptProgram\n",
    "from jwst_rogue_path_tool.constants import PROJECT_DIRNAME"
   ]
  },
  {
   "cell_type": "markdown",
   "id": "bad4bf3f-3893-4b77-8393-2509a426ed10",
   "metadata": {},
   "source": [
    "<a id='Run-jwst-rpt'></a>\n",
    "## Run the JWST Rogue Path Tool"
   ]
  },
  {
   "cell_type": "markdown",
   "id": "92a54902",
   "metadata": {},
   "source": [
    "<a id='handle-records-json-files'></a>\n",
    "### Handling records.json Files\n",
    "\n",
    "Here we will look at the tools in the JWST Rogue Path Tool to parse and analyze the input data for the tool."
   ]
  },
  {
   "cell_type": "code",
   "execution_count": null,
   "id": "0e65901d",
   "metadata": {},
   "outputs": [],
   "source": [
    "apt_json_filename = pathlib.Path(PROJECT_DIRNAME) / \"data\" / \"APT_test_4RPtool.records.json\"\n",
    "\n",
    "# Parse the APT JSON file to obtain useful information for Claw Tool\n",
    "parsed_json = aptJsonFile(apt_json_filename)\n",
    "\n",
    "parsed_json.tablenames"
   ]
  },
  {
   "cell_type": "markdown",
   "id": "bdfc34a2-f3b5-43ec-b5d1-df5baa4130ca",
   "metadata": {},
   "source": [
    "<a id='Selecting-displaying-program-data'></a>\n",
    "### Selecting and Displaying APT Data"
   ]
  },
  {
   "cell_type": "code",
   "execution_count": null,
   "id": "81019be2-e3d2-48df-abb8-a8c5209c1e3f",
   "metadata": {
    "scrolled": true
   },
   "outputs": [],
   "source": [
    "tablename = \"exposures\"\n",
    "parsed_json.data[tablename]  # This is a list of dictionaries"
   ]
  },
  {
   "cell_type": "code",
   "execution_count": null,
   "id": "64610226",
   "metadata": {
    "scrolled": true
   },
   "outputs": [],
   "source": [
    "exposures_df = parsed_json.build_dataframe(tablename)\n",
    "exposures_df  # this is a dataframe"
   ]
  },
  {
   "cell_type": "markdown",
   "id": "2d61f21e",
   "metadata": {},
   "source": [
    "<a id='Generating-apt-program-object'></a>\n",
    "### Generating APT Program Object\n",
    "\n",
    "The examples below showcase the difference use cases for the JWST Rogue Path Tool."
   ]
  },
  {
   "cell_type": "code",
   "execution_count": null,
   "id": "5a5242b3-4817-4541-8e57-6d4a4c851ad5",
   "metadata": {},
   "outputs": [],
   "source": [
    "program = aptProgram(apt_json_filename, angular_step=1.0)"
   ]
  },
  {
   "cell_type": "code",
   "execution_count": null,
   "id": "8ce49866-3bb8-4fac-bee2-83aabaf87699",
   "metadata": {
    "scrolled": true
   },
   "outputs": [],
   "source": [
    "program.run()"
   ]
  },
  {
   "cell_type": "code",
   "execution_count": null,
   "id": "e0e4258a-83c6-45ca-8d0e-0c0cdc1e8096",
   "metadata": {
    "scrolled": true
   },
   "outputs": [],
   "source": [
    "program.observations.data  # Show ALL observation data"
   ]
  },
  {
   "cell_type": "code",
   "execution_count": null,
   "id": "5e5ccb02-4a36-4d1d-85d7-5fe0484b00ec",
   "metadata": {},
   "outputs": [],
   "source": [
    "program.observations.supported_observations  # Only show the supported observations for JWST Rogue Path Tool\n",
    "program.observations.supported_observations.keys()  # Observation numbers to select data on."
   ]
  },
  {
   "cell_type": "code",
   "execution_count": null,
   "id": "d6a6f8e0-d9c8-4a44-80a8-11514650c8ed",
   "metadata": {},
   "outputs": [],
   "source": [
    "# Select a single observation of interest\n",
    "observation = program.observations.data[1]\n",
    "observation['exposure_frames'].data\n",
    "# show pandas df for single exposure frame"
   ]
  },
  {
   "cell_type": "markdown",
   "id": "71c2be9c-3e1d-4236-a756-c2c473e3c8d5",
   "metadata": {},
   "source": [
    "<a id='Plotting-rogue-path-tool-results'></a>\n",
    "## Plotting Rogue Path Tool Results"
   ]
  },
  {
   "cell_type": "markdown",
   "id": "5073645e-879c-48d5-9bff-d5d570213a4c",
   "metadata": {},
   "source": [
    "<a id='exposure-level-plots'></a>\n",
    "### Exposure Level Valid Angle Plots"
   ]
  },
  {
   "cell_type": "code",
   "execution_count": null,
   "id": "b1989436-251a-4b12-a612-3a5b86afccc4",
   "metadata": {},
   "outputs": [],
   "source": [
    "supported_observations = program.observations.supported_observations.keys()\n",
    "for obs_number in supported_observations:\n",
    "    program.plot_exposures(program.observations.data[obs_number])"
   ]
  },
  {
   "cell_type": "markdown",
   "id": "7ad96131-f5aa-48a7-a37e-720f5a1ced00",
   "metadata": {},
   "source": [
    "<a id='observation-level-plots'></a>\n",
    "### Observation Level Valid Angle Plots\n",
    "This will show valid angle ranges across all exposures in a single observation. If angles ranges are valid in one exposure but not in others, it will not be shown at this level."
   ]
  },
  {
   "cell_type": "code",
   "execution_count": null,
   "id": "a3483e33-2816-4921-9eb4-912b7a49c136",
   "metadata": {},
   "outputs": [],
   "source": [
    "supported_observations = program.observations.supported_observations.keys()\n",
    "for obs_number in supported_observations:\n",
    "    program.plot_observation(program.observations.data[obs_number])"
   ]
  },
  {
   "cell_type": "markdown",
   "id": "9d8f4b2d-c969-4e9b-b4ed-e5776184dbf6",
   "metadata": {},
   "source": [
    "<a id='v2-vs-v3'></a>\n",
    "### Plotting a Single Angle of Attitude in V2 & V3 Space\n",
    "\n",
    "The figure below shows what the tool is searching for when sweeping angles. Here for a single angle we show the V2 & V3 space of the targets in our source catalog as well as the susceptibility region. The intensity of targets that fall in this region are dependent on the location where of the target in the susceptibility region and the brightness of the target."
   ]
  },
  {
   "cell_type": "code",
   "execution_count": null,
   "id": "b4b4cda4-c003-4d9d-abf3-5758ba8e517c",
   "metadata": {},
   "outputs": [],
   "source": [
    "from jwst_rogue_path_tool.plotting import plot_fixed_angle_regions\n",
    "\n",
    "angles = np.arange(100, 106)\n",
    "\n",
    "for angle in angles:\n",
    "    plot_fixed_angle_regions(observation, angle)"
   ]
  },
  {
   "cell_type": "markdown",
   "id": "b647f76c-b6c1-42db-a518-9add1195efd4",
   "metadata": {},
   "source": [
    "<a id='attitude-vs-flux'></a>\n",
    "### Flux as a Function of Attitude\n",
    "\n",
    "Below we show the calculated flux as a function of attitude angle. This figure also ties in the [JWST Backgrounds Tool](https://github.com/spacetelescope/jwst_backgrounds) to calculate the background of the target JWST is observing described in the APT file. By default, we set the parameters for the backgrounds tool to calculate 10% of the minimum background value. You can set the function and percentage via a dictionary and pass it to the AptProgram class.\n",
    "~~~\n",
    "jbt_params = [{\"threshold\":0.1, function:np.min}, {\"threshold\":0.2, \"function\":np.mean}, ..... {\"threshold\":value, \"function\":stats_function}]\n",
    "\n",
    "AptProgram(apt_JSON_filename, angular_step=1.0, bkg_params=jbt_params)\n",
    "~~~"
   ]
  },
  {
   "cell_type": "code",
   "execution_count": null,
   "id": "758ff490-ea7c-40e6-9bca-5faa7f9b50e5",
   "metadata": {},
   "outputs": [],
   "source": [
    "from jwst_rogue_path_tool.plotting import create_v3pa_vs_flux_plot\n",
    "\n",
    "for obs_number in supported_observations:\n",
    "    create_v3pa_vs_flux_plot(program.observations.data[obs_number])"
   ]
  },
  {
   "cell_type": "markdown",
   "id": "eae8dd72-babc-456e-9e6e-231a80192896",
   "metadata": {},
   "source": [
    "<a id='reporting-and-apt'></a>\n",
    "## Reporting & Applying PA Constraints in APT\n",
    "\n",
    "In this section, we demonstrate how to plot the predicted claw flux across all position angles for a single observation, identify the angles free from claws, and modify the observation in APT to ensure it is taken only within those good position angle ranges."
   ]
  },
  {
   "cell_type": "code",
   "execution_count": null,
   "id": "28ec03d2-f04f-4c2a-9300-feda6f476389",
   "metadata": {},
   "outputs": [],
   "source": [
    "# The observation number of interest\n",
    "obs_number = 5\n",
    "\n",
    "# Make plot of claws flux vs position angle\n",
    "create_v3pa_vs_flux_plot(program.observations.data[obs_number])\n",
    "\n",
    "# Make file containing good position angles\n",
    "program.make_background_report(program.observations.data[obs_number], output_directory=pathlib.Path.cwd())"
   ]
  },
  {
   "cell_type": "markdown",
   "id": "0395614c-a7d2-4454-ba6e-5a0232240283",
   "metadata": {},
   "source": [
    "The plot above illustrates the predicted claw flux at each position angle for every filter. The horizontal orange and green lines indicate signal levels at 10% (based on minimum background throughout the year) and 20% (based on mean background throughout the year) of the predicted background levels, respectively. These thresholds help identify position angles free from claw contamination. Typically, the 20% threshold is sufficient, but for certain targets—such as faint, high-redshift objects—observers may prefer the more conservative 10% threshold. The PA ranges that are free from claws based on each threshold are saved to a text file, e.g. for this example observation `program_0_observation_5_background_module_B.txt`:\n",
    "```\n",
    "**** Ranges Not Impacted by Background Thresholds ****\n",
    "**** Module B ****\n",
    "**** Ranges Under 0.1 of min  ****\n",
    "PA Start -- PA End: 0 -- 80\n",
    "PA Start -- PA End: 103 -- 115\n",
    "PA Start -- PA End: 126 -- 157\n",
    "PA Start -- PA End: 162 -- 163\n",
    "PA Start -- PA End: 184 -- 221\n",
    "PA Start -- PA End: 243 -- 253\n",
    "PA Start -- PA End: 263 -- 265\n",
    "PA Start -- PA End: 270 -- 300\n",
    "PA Start -- PA End: 310 -- 312\n",
    "PA Start -- PA End: 315 -- 359\n",
    "**** Ranges Under 0.2 of mean  ****\n",
    "PA Start -- PA End: 0 -- 81\n",
    "PA Start -- PA End: 92 -- 117\n",
    "PA Start -- PA End: 124 -- 165\n",
    "PA Start -- PA End: 178 -- 178\n",
    "PA Start -- PA End: 183 -- 223\n",
    "PA Start -- PA End: 235 -- 237\n",
    "PA Start -- PA End: 240 -- 302\n",
    "PA Start -- PA End: 308 -- 359\n",
    "```\n",
    "\n",
    "The PA ranges in this file are determined conservatively by considering all filters together. If the predicted claw flux in any filter exceeds the threshold, the corresponding position angle is excluded from these ranges.\n",
    "\n",
    "<br>\n",
    "\n",
    "Once the PA ranges free from claws are determined, users can add them to their APT files as a [PA Special Requirement](https://jwst-docs.stsci.edu/jppom/special-requirements/aperture-position-angle-special-requirements#gsc.tab=0) to ensure their observations are only taken within those PA ranges. To do this, select the observation in APT, then go to `Special Requirement→Add→Position Angle→PA Range` and input each good PA range in the V3PA Range boxes. Each PA range should be entered as a separate Special Requirement. For example, using the 20% threshold, the first Special Requirement for the example observation above would be:\n",
    "```\n",
    "Aperture PA Range 359.92542306 to 80.92542306 Degrees (V3 0.0 to 81.0)\n",
    "```\n",
    "\n",
    "Currently, the tool does not take into account target visibility, so some of the PA ranges shown may not need to be considered. For example, if a strong claw is predicted at a PA that is never available in the [roll analysis](https://jwst-docs.stsci.edu/jwst-astronomers-proposal-tool-overview/apt-workflow-articles/apt-visit-planner#gsc.tab=0), users don't have to include Special Requirements to avoid that PA as it will never be used anyway. To check which PA ranges are actually available for a given visit, users can go to `Visit Planner→Reports→Visitx.x→Total Roll Analysis For Visit`."
   ]
  }
 ],
 "metadata": {
  "kernelspec": {
   "display_name": "jwst-rpt-3.12",
   "language": "python",
   "name": "jwst-rpt-3.12"
  },
  "language_info": {
   "codemirror_mode": {
    "name": "ipython",
    "version": 3
   },
   "file_extension": ".py",
   "mimetype": "text/x-python",
   "name": "python",
   "nbconvert_exporter": "python",
   "pygments_lexer": "ipython3",
   "version": "3.12.4"
  },
  "toc": {
   "base_numbering": 1,
   "nav_menu": {},
   "number_sections": true,
   "sideBar": true,
   "skip_h1_title": true,
   "title_cell": "Table of Contents",
   "title_sidebar": "Contents",
   "toc_cell": false,
   "toc_position": {
    "height": "calc(100% - 180px)",
    "left": "10px",
    "top": "150px",
    "width": "297.4px"
   },
   "toc_section_display": true,
   "toc_window_display": true
  }
 },
 "nbformat": 4,
 "nbformat_minor": 5
}
